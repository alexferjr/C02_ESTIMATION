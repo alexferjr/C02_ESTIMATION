{
 "cells": [
  {
   "cell_type": "markdown",
   "id": "8cb7a1c3",
   "metadata": {},
   "source": [
    "#  <center><u><span style=\"color:#006666\">INTERFAZ DE ESTIMACIÓN DE CARBONO</span></u></center>\n",
    "\n"
   ]
  },
  {
   "cell_type": "markdown",
   "id": "d4faeb14",
   "metadata": {},
   "source": [
    "##   <i><span style=\"color:#990000\">INTRODUCCIÓN</span></i>  \n",
    "La API Carbon Interface es una herramienta que permite a los desarrolladores calcular y medir las emisiones de carbono generadas por aplicaciones web y servicios en línea. Proporciona una forma sencilla de cuantificar el impacto ambiental de una aplicación al medir las emisiones de gases de efecto invernadero asociadas con su consumo de energía.\n"
   ]
  },
  {
   "cell_type": "markdown",
   "id": "3e3af151",
   "metadata": {},
   "source": [
    "<img src=\"https://repository-images.githubusercontent.com/600768528/2220d94c-6491-4096-b6ab-7f4b3830f6e5\" alt=\"JuveYell\" width=\"600px\">\n"
   ]
  },
  {
   "cell_type": "code",
   "execution_count": null,
   "id": "0f0ac622",
   "metadata": {},
   "outputs": [],
   "source": []
  }
 ],
 "metadata": {
  "kernelspec": {
   "display_name": "Python 3 (ipykernel)",
   "language": "python",
   "name": "python3"
  },
  "language_info": {
   "codemirror_mode": {
    "name": "ipython",
    "version": 3
   },
   "file_extension": ".py",
   "mimetype": "text/x-python",
   "name": "python",
   "nbconvert_exporter": "python",
   "pygments_lexer": "ipython3",
   "version": "3.9.13"
  }
 },
 "nbformat": 4,
 "nbformat_minor": 5
}
